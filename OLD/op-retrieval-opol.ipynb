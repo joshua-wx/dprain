{
 "cells": [
  {
   "cell_type": "code",
   "execution_count": null,
   "metadata": {},
   "outputs": [],
   "source": [
    "import os\n",
    "from glob import glob\n",
    "import warnings\n",
    "from datetime import datetime\n",
    "\n",
    "import numpy as np\n",
    "import pyart\n",
    "from matplotlib import pyplot as plt\n",
    "import cftime\n",
    "\n",
    "import radar_codes\n",
    "import filtering\n",
    "import phase\n",
    "import hydrometeors\n",
    "import attenuation\n",
    "import rainrate\n",
    "import file_util\n",
    "\n",
    "warnings.simplefilter('ignore')\n"
   ]
  },
  {
   "cell_type": "code",
   "execution_count": null,
   "metadata": {},
   "outputs": [],
   "source": [
    "#config\n",
    "vol_root = '/scratch/kl02/vhl548/opol/v2020/ppi/2019'\n",
    "radar_name = 'opol'\n",
    "date_str = '20191225'\n",
    "cf_root = '/g/data/kl02/jss548/PST/polarimetric_rain/cfradial'\n",
    "rf_root = '/g/data/kl02/jss548/PST/polarimetric_rain/rf3_instant_rainrate'\n",
    "VERBOSE = False\n",
    "band = 'C'"
   ]
  },
  {
   "cell_type": "code",
   "execution_count": null,
   "metadata": {},
   "outputs": [],
   "source": [
    "#unpack and list daily zip\n",
    "vol_ffn_list = sorted(glob(f'{vol_root}/{date_str}/*.nc'))"
   ]
  },
  {
   "cell_type": "code",
   "execution_count": null,
   "metadata": {},
   "outputs": [],
   "source": [
    "#init alpha dictcontinous\n",
    "alpha_dict = {'z_pairs':[], 'zdr_pairs':[], 'alpha_ts':[], 'dt_ts':[]}\n",
    "\n",
    "for vol_ffn in vol_ffn_list[100:120]:\n",
    "    print('processing', vol_ffn)\n",
    "    \n",
    "    #read radar volume\n",
    "    radar = pyart.io.read_cfradial(vol_ffn)\n",
    "    \n",
    "    #get time\n",
    "    valid_time = cftime.num2pydate(radar.time['data'][0], radar.time['units'])\n",
    "    \n",
    "    ##################################################################################################\n",
    "    #\n",
    "    # Preprocessing\n",
    "    #\n",
    "    ##################################################################################################\n",
    "    \n",
    "    # Temperature    \n",
    "    height, temperature, isom = radar_codes.temperature_profile_access(radar)\n",
    "    radar.add_field('temperature', temperature, replace_existing=True)\n",
    "    radar.add_field('height', height, replace_existing=True)\n",
    "    radar.add_field('height_over_isom', isom, replace_existing=True)\n",
    "    \n",
    "    ##################################################################################################\n",
    "    #\n",
    "    # Retrievals\n",
    "    #\n",
    "    ##################################################################################################\n",
    "\n",
    "    #estimate alpha\n",
    "    alpha_dict = attenuation.estimate_alpha(radar, alpha_dict, band,\n",
    "                                           refl_field='corrected_reflectivity', zdr_field='corrected_differential_reflectivity', rhohv_field='cross_correlation_ratio',\n",
    "                                           verbose=True)\n",
    "\n",
    "    #estimate specific attenuation\n",
    "    alpha = alpha_dict['alpha_ts'][-1]\n",
    "    if VERBOSE:\n",
    "        print('alpha', alpha)\n",
    "    radar = attenuation.retrieve_zphi(radar, band, alpha=alpha,\n",
    "                                     refl_field='corrected_reflectivity', phidp_field='corrected_differential_phase', rhohv_field='cross_correlation_ratio')\n",
    "\n",
    "    #estimate rainfall\n",
    "    radar = rainrate.conventional(radar, alpha=92, beta=1.7, refl_field='corrected_reflectivity')\n",
    "    radar = rainrate.polarimetric(radar, band, refl_field='corrected_reflectivity', kdp_field='corrected_specific_differential_phase', rhohv_field='cross_correlation_ratio')\n",
    "    \n",
    "    \n",
    "    ##################################################################################################\n",
    "    #\n",
    "    # Write outputs CF Radial\n",
    "    #\n",
    "    ##################################################################################################\n",
    "    \n",
    "    #write to cf output\n",
    "    \n",
    "    #create paths\n",
    "    cf_path = f'{cf_root}/{radar_name}/{date_str}'\n",
    "    if not os.path.exists(cf_path):\n",
    "        os.makedirs(cf_path)\n",
    "    cf_fn = f'{radar_name}_{valid_time.strftime(\"%Y%m%d_%H%M%S\")}.vol.nc' #this filename should match\n",
    "    cf_ffn = f'{cf_path}/{cf_fn}'\n",
    "    #write to cf\n",
    "    pyart.io.write_cfradial(cf_ffn, radar)\n"
   ]
  },
  {
   "cell_type": "code",
   "execution_count": null,
   "metadata": {},
   "outputs": [],
   "source": []
  }
 ],
 "metadata": {
  "kernelspec": {
   "display_name": "Python [conda env:radar-dev] *",
   "language": "python",
   "name": "conda-env-radar-dev-py"
  },
  "language_info": {
   "codemirror_mode": {
    "name": "ipython",
    "version": 3
   },
   "file_extension": ".py",
   "mimetype": "text/x-python",
   "name": "python",
   "nbconvert_exporter": "python",
   "pygments_lexer": "ipython3",
   "version": "3.8.2"
  }
 },
 "nbformat": 4,
 "nbformat_minor": 4
}
