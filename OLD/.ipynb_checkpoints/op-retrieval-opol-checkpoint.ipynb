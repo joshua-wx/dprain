{
 "cells": [
  {
   "cell_type": "code",
   "execution_count": 1,
   "metadata": {},
   "outputs": [
    {
     "name": "stdout",
     "output_type": "stream",
     "text": [
      "\n",
      "## You are using the Python ARM Radar Toolkit (Py-ART), an open source\n",
      "## library for working with weather radar data. Py-ART is partly\n",
      "## supported by the U.S. Department of Energy as part of the Atmospheric\n",
      "## Radiation Measurement (ARM) Climate Research Facility, an Office of\n",
      "## Science user facility.\n",
      "##\n",
      "## If you use this software to prepare a publication, please cite:\n",
      "##\n",
      "##     JJ Helmus and SM Collis, JORS 2016, doi: 10.5334/jors.119\n",
      "\n"
     ]
    }
   ],
   "source": [
    "import os\n",
    "from glob import glob\n",
    "import warnings\n",
    "from datetime import datetime\n",
    "\n",
    "import numpy as np\n",
    "import pyart\n",
    "from matplotlib import pyplot as plt\n",
    "import cftime\n",
    "\n",
    "import radar_codes\n",
    "import filtering\n",
    "import phase\n",
    "import hydrometeors\n",
    "import attenuation\n",
    "import rainrate\n",
    "import file_util\n",
    "\n",
    "warnings.simplefilter('ignore')\n"
   ]
  },
  {
   "cell_type": "code",
   "execution_count": 2,
   "metadata": {},
   "outputs": [],
   "source": [
    "#config\n",
    "vol_root = '/scratch/kl02/vhl548/opol/v2020/ppi/2019'\n",
    "radar_name = 'opol'\n",
    "date_str = '20191225'\n",
    "cf_root = '/g/data/kl02/jss548/PST/polarimetric_rain/cfradial'\n",
    "rf_root = '/g/data/kl02/jss548/PST/polarimetric_rain/rf3_instant_rainrate'\n",
    "VERBOSE = False\n",
    "band = 'C'"
   ]
  },
  {
   "cell_type": "code",
   "execution_count": 3,
   "metadata": {},
   "outputs": [],
   "source": [
    "#unpack and list daily zip\n",
    "vol_ffn_list = sorted(glob(f'{vol_root}/{date_str}/*.nc'))"
   ]
  },
  {
   "cell_type": "code",
   "execution_count": 4,
   "metadata": {},
   "outputs": [
    {
     "name": "stdout",
     "output_type": "stream",
     "text": [
      "processing /scratch/kl02/vhl548/opol/v2020/ppi/2019/20191225/9776HUB-PPIVol-20191225-115400-0000.cfradial.nc\n",
      "0.0005218160690989368 0.03193576700900015 0.04498116873647357 0.2 30.90510900901628\n",
      "insufficent pairs 3946 - Using default alpha of 0.04498116873647357\n",
      "processing /scratch/kl02/vhl548/opol/v2020/ppi/2019/20191225/9776HUB-PPIVol-20191225-120000-0000.cfradial.nc\n",
      "0.0005153293295738224 0.031580887088792094 0.04446412032813765 0.2 31.195994189514686\n",
      "insufficent pairs 8677 - Using previous alpha of 0.04498116873647357\n",
      "processing /scratch/kl02/vhl548/opol/v2020/ppi/2019/20191225/9776HUB-PPIVol-20191225-120600-0000.cfradial.nc\n",
      "0.0005160541566192454 0.031620541303833176 0.04452189521931431 0.2 31.163490734562977\n",
      "insufficent pairs 14619 - Using previous alpha of 0.04498116873647357\n",
      "processing /scratch/kl02/vhl548/opol/v2020/ppi/2019/20191225/9776HUB-PPIVol-20191225-121200-0000.cfradial.nc\n",
      "0.0005120093664244192 0.0313992568178382 0.04419949097844868 0.2 31.34487146078837\n",
      "insufficent pairs 21371 - Using previous alpha of 0.04498116873647357\n",
      "processing /scratch/kl02/vhl548/opol/v2020/ppi/2019/20191225/9776HUB-PPIVol-20191225-121800-0000.cfradial.nc\n",
      "0.0005096078220391061 0.031267871878372634 0.04400806742935029 0.2 31.452564034120797\n",
      "insufficent pairs 29016 - Using previous alpha of 0.04498116873647357\n",
      "processing /scratch/kl02/vhl548/opol/v2020/ppi/2019/20191225/9776HUB-PPIVol-20191225-122400-0000.cfradial.nc\n",
      "0.0005079047182634501 0.031174697591094598 0.043872315547680854 0.2 31.52893640074214\n",
      "40166 pairs found, finding Z-ZDR slope\n",
      "[-0.24609375 -0.140625   -0.015625    0.078125    0.1484375   0.265625\n",
      "  0.375       0.4296875   0.515625    0.5703125   0.51953125  0.5625\n",
      "  0.85546875  0.0078125  -1.23828125         nan]\n",
      "nan nan nan\n"
     ]
    },
    {
     "ename": "AttributeError",
     "evalue": "'LinearRegression' object has no attribute 'coef_'",
     "output_type": "error",
     "traceback": [
      "\u001b[0;31m---------------------------------------------------------------------------\u001b[0m",
      "\u001b[0;31mAttributeError\u001b[0m                            Traceback (most recent call last)",
      "\u001b[0;32m<ipython-input-4-ab47f290f3e2>\u001b[0m in \u001b[0;36m<module>\u001b[0;34m\u001b[0m\n\u001b[1;32m     30\u001b[0m \u001b[0;34m\u001b[0m\u001b[0m\n\u001b[1;32m     31\u001b[0m     \u001b[0;31m#estimate alpha\u001b[0m\u001b[0;34m\u001b[0m\u001b[0;34m\u001b[0m\u001b[0;34m\u001b[0m\u001b[0m\n\u001b[0;32m---> 32\u001b[0;31m     alpha_dict = attenuation.estimate_alpha(radar, alpha_dict, band,\n\u001b[0m\u001b[1;32m     33\u001b[0m                                            \u001b[0mrefl_field\u001b[0m\u001b[0;34m=\u001b[0m\u001b[0;34m'corrected_reflectivity'\u001b[0m\u001b[0;34m,\u001b[0m \u001b[0mzdr_field\u001b[0m\u001b[0;34m=\u001b[0m\u001b[0;34m'corrected_differential_reflectivity'\u001b[0m\u001b[0;34m,\u001b[0m \u001b[0mrhohv_field\u001b[0m\u001b[0;34m=\u001b[0m\u001b[0;34m'cross_correlation_ratio'\u001b[0m\u001b[0;34m,\u001b[0m\u001b[0;34m\u001b[0m\u001b[0;34m\u001b[0m\u001b[0m\n\u001b[1;32m     34\u001b[0m                                            verbose=True)\n",
      "\u001b[0;32m~/dev/projects/PST/polarimetric_rain/attenuation.py\u001b[0m in \u001b[0;36mestimate_alpha\u001b[0;34m(radar, alpha_dict, band, pair_threshold, min_pairs, min_z, max_z, min_zdr, max_zdr, min_rhohv, refl_field, zdr_field, rhohv_field, isom_field, temp_field, verbose)\u001b[0m\n\u001b[1;32m    253\u001b[0m     \u001b[0;32mif\u001b[0m \u001b[0mverbose\u001b[0m\u001b[0;34m:\u001b[0m\u001b[0;34m\u001b[0m\u001b[0;34m\u001b[0m\u001b[0m\n\u001b[1;32m    254\u001b[0m         \u001b[0mprint\u001b[0m\u001b[0;34m(\u001b[0m\u001b[0mn_pairs\u001b[0m\u001b[0;34m,\u001b[0m \u001b[0;34m'pairs found, finding Z-ZDR slope'\u001b[0m\u001b[0;34m)\u001b[0m\u001b[0;34m\u001b[0m\u001b[0;34m\u001b[0m\u001b[0m\n\u001b[0;32m--> 255\u001b[0;31m     \u001b[0mK\u001b[0m \u001b[0;34m=\u001b[0m \u001b[0m_find_z_zdr_slope\u001b[0m\u001b[0;34m(\u001b[0m\u001b[0malpha_dict\u001b[0m\u001b[0;34m)\u001b[0m\u001b[0;34m\u001b[0m\u001b[0;34m\u001b[0m\u001b[0m\n\u001b[0m\u001b[1;32m    256\u001b[0m     \u001b[0;32mif\u001b[0m \u001b[0mverbose\u001b[0m\u001b[0;34m:\u001b[0m\u001b[0;34m\u001b[0m\u001b[0;34m\u001b[0m\u001b[0m\n\u001b[1;32m    257\u001b[0m         \u001b[0mprint\u001b[0m\u001b[0;34m(\u001b[0m\u001b[0;34m'slope value'\u001b[0m\u001b[0;34m,\u001b[0m \u001b[0mK\u001b[0m\u001b[0;34m)\u001b[0m\u001b[0;34m\u001b[0m\u001b[0;34m\u001b[0m\u001b[0m\n",
      "\u001b[0;32m~/dev/projects/PST/polarimetric_rain/attenuation.py\u001b[0m in \u001b[0;36m_find_z_zdr_slope\u001b[0;34m(alpha_dict)\u001b[0m\n\u001b[1;32m    107\u001b[0m         \u001b[0mplt\u001b[0m\u001b[0;34m.\u001b[0m\u001b[0mylabel\u001b[0m\u001b[0;34m(\u001b[0m\u001b[0;34m'ZDR'\u001b[0m\u001b[0;34m)\u001b[0m\u001b[0;34m\u001b[0m\u001b[0;34m\u001b[0m\u001b[0m\n\u001b[1;32m    108\u001b[0m \u001b[0;34m\u001b[0m\u001b[0m\n\u001b[0;32m--> 109\u001b[0;31m     \u001b[0;32mreturn\u001b[0m \u001b[0mLS\u001b[0m\u001b[0;34m.\u001b[0m\u001b[0mcoef_\u001b[0m\u001b[0;34m[\u001b[0m\u001b[0;36m0\u001b[0m\u001b[0;34m]\u001b[0m\u001b[0;34m\u001b[0m\u001b[0;34m\u001b[0m\u001b[0m\n\u001b[0m\u001b[1;32m    110\u001b[0m \u001b[0;34m\u001b[0m\u001b[0m\n\u001b[1;32m    111\u001b[0m \u001b[0;32mdef\u001b[0m \u001b[0m_slope_alpha_func\u001b[0m\u001b[0;34m(\u001b[0m\u001b[0minput_x\u001b[0m\u001b[0;34m,\u001b[0m \u001b[0ma\u001b[0m\u001b[0;34m,\u001b[0m \u001b[0mb\u001b[0m\u001b[0;34m,\u001b[0m \u001b[0mmax_y\u001b[0m\u001b[0;34m)\u001b[0m\u001b[0;34m:\u001b[0m\u001b[0;34m\u001b[0m\u001b[0;34m\u001b[0m\u001b[0m\n",
      "\u001b[0;31mAttributeError\u001b[0m: 'LinearRegression' object has no attribute 'coef_'"
     ]
    }
   ],
   "source": [
    "#init alpha dictcontinous\n",
    "alpha_dict = {'z_pairs':[], 'zdr_pairs':[], 'alpha_ts':[], 'dt_ts':[]}\n",
    "\n",
    "for vol_ffn in vol_ffn_list[106:]:\n",
    "    print('processing', vol_ffn)\n",
    "    \n",
    "    #read radar volume\n",
    "    radar = pyart.io.read_cfradial(vol_ffn)\n",
    "    \n",
    "    #get time\n",
    "    valid_time = cftime.num2pydate(radar.time['data'][0], radar.time['units'])\n",
    "    \n",
    "    ##################################################################################################\n",
    "    #\n",
    "    # Preprocessing\n",
    "    #\n",
    "    ##################################################################################################\n",
    "    \n",
    "    # Temperature    \n",
    "    height, temperature, isom = radar_codes.temperature_profile_access(radar)\n",
    "    radar.add_field('temperature', temperature, replace_existing=True)\n",
    "    radar.add_field('height', height, replace_existing=True)\n",
    "    radar.add_field('height_over_isom', isom, replace_existing=True)\n",
    "    \n",
    "    ##################################################################################################\n",
    "    #\n",
    "    # Retrievals\n",
    "    #\n",
    "    ##################################################################################################\n",
    "\n",
    "    #estimate alpha\n",
    "    alpha_dict = attenuation.estimate_alpha(radar, alpha_dict, band,\n",
    "                                           refl_field='corrected_reflectivity', zdr_field='corrected_differential_reflectivity', rhohv_field='cross_correlation_ratio',\n",
    "                                           verbose=True)\n",
    "\n",
    "    #estimate specific attenuation\n",
    "    alpha = alpha_dict['alpha_ts'][-1]\n",
    "    if VERBOSE:\n",
    "        print('alpha', alpha)\n",
    "    radar = attenuation.retrieve_zphi(radar, band, alpha=alpha,\n",
    "                                     refl_field='corrected_reflectivity', phidp_field='corrected_differential_phase', rhohv_field='cross_correlation_ratio')\n",
    "\n",
    "    #estimate rainfall\n",
    "    radar = rainrate.conventional(radar, alpha=92, beta=1.7, refl_field='corrected_reflectivity')\n",
    "    radar = rainrate.polarimetric(radar, band, refl_field='corrected_reflectivity', kdp_field='corrected_specific_differential_phase', rhohv_field='cross_correlation_ratio')\n",
    "    \n",
    "    \n",
    "    ##################################################################################################\n",
    "    #\n",
    "    # Write outputs CF Radial\n",
    "    #\n",
    "    ##################################################################################################\n",
    "    \n",
    "    #write to cf output\n",
    "    \n",
    "    #create paths\n",
    "    cf_path = f'{cf_root}/{radar_name}/{date_str}'\n",
    "    if not os.path.exists(cf_path):\n",
    "        os.makedirs(cf_path)\n",
    "    cf_fn = f'{radar_name}_{valid_time.strftime(\"%Y%m%d_%H%M%S\")}.vol.nc' #this filename should match\n",
    "    cf_ffn = f'{cf_path}/{cf_fn}'\n",
    "    #write to cf\n",
    "    pyart.io.write_cfradial(cf_ffn, radar)\n"
   ]
  },
  {
   "cell_type": "code",
   "execution_count": null,
   "metadata": {},
   "outputs": [],
   "source": []
  }
 ],
 "metadata": {
  "kernelspec": {
   "display_name": "Python [conda env:radar-dev] *",
   "language": "python",
   "name": "conda-env-radar-dev-py"
  },
  "language_info": {
   "codemirror_mode": {
    "name": "ipython",
    "version": 3
   },
   "file_extension": ".py",
   "mimetype": "text/x-python",
   "name": "python",
   "nbconvert_exporter": "python",
   "pygments_lexer": "ipython3",
   "version": "3.8.2"
  }
 },
 "nbformat": 4,
 "nbformat_minor": 4
}
