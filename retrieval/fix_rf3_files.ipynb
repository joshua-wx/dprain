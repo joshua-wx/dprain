{
 "cells": [
  {
   "cell_type": "code",
   "execution_count": 17,
   "metadata": {},
   "outputs": [],
   "source": [
    "from glob import glob\n",
    "import netCDF4\n",
    "import numpy as np\n",
    "from tqdm import tqdm"
   ]
  },
  {
   "cell_type": "code",
   "execution_count": 16,
   "metadata": {},
   "outputs": [],
   "source": [
    "y_bounds1 = np.linspace(-128, 127.5, 512)\n",
    "y_bounds2 = y_bounds1.copy() + 0.5\n",
    "y_bounds = np.rot90(np.stack([y_bounds2, y_bounds1]))\n",
    "x_bounds = np.fliplr(np.flipud(y_bounds.copy()))"
   ]
  },
  {
   "cell_type": "code",
   "execution_count": 18,
   "metadata": {},
   "outputs": [
    {
     "name": "stderr",
     "output_type": "stream",
     "text": [
      "100%|██████████| 107932/107932 [1:28:15<00:00, 20.38it/s] \n"
     ]
    }
   ],
   "source": [
    "nc_ffn_list = glob('/g/data/kl02/jss548/PST/polarimetric_rain/rf3_instant_rainrate/**/*.nc', recursive=True)\n",
    "for nc_ffn in tqdm(nc_ffn_list, total=len(nc_ffn_list)):\n",
    "    with netCDF4.Dataset(nc_ffn, 'r+') as ncid:\n",
    "        ncid['x_bounds'][:] = x_bounds\n",
    "        ncid['y_bounds'][:] = y_bounds\n"
   ]
  },
  {
   "cell_type": "code",
   "execution_count": null,
   "metadata": {},
   "outputs": [],
   "source": []
  }
 ],
 "metadata": {
  "kernelspec": {
   "display_name": "Python [conda env:radar-dev] *",
   "language": "python",
   "name": "conda-env-radar-dev-py"
  },
  "language_info": {
   "codemirror_mode": {
    "name": "ipython",
    "version": 3
   },
   "file_extension": ".py",
   "mimetype": "text/x-python",
   "name": "python",
   "nbconvert_exporter": "python",
   "pygments_lexer": "ipython3",
   "version": "3.8.5"
  }
 },
 "nbformat": 4,
 "nbformat_minor": 4
}
