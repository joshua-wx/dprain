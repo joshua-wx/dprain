{
 "cells": [
  {
   "cell_type": "code",
   "execution_count": 1,
   "metadata": {},
   "outputs": [
    {
     "name": "stdout",
     "output_type": "stream",
     "text": [
      "running /home/548/jss548/dev/tmp/qsub_dp_rain/dp_02_20211022_20211022.pbs\n",
      "b'34299687.gadi-pbs\\n'\n",
      "finished qsub generate for  1 jobs\n"
     ]
    }
   ],
   "source": [
    "import glob\n",
    "import subprocess\n",
    "import calendar\n",
    "\n",
    "def gen_qsub(radar_id='', radar_start='', radar_end='', ncpu=16, mem=32, walltime=10, py_script='',queue_mode=''):\n",
    "    #build header\n",
    "    conf_txt = \\\n",
    "    \"\"\"#!/bin/bash\n",
    "    #PBS -P en0\n",
    "    #PBS -q {qmode}\n",
    "    #PBS -l walltime={time}:00:00\n",
    "    #PBS -l mem={mem}GB\n",
    "    #PBS -l wd\n",
    "    #PBS -l ncpus={cpu}\n",
    "    #PBS -l jobfs=150GB\n",
    "    #PBS -m a\n",
    "    #PBS -l storage=gdata/rq0+gdata/kl02+gdata/en0+gdata/lb4+gdata/rt52+gdata/wr45+scratch/kl02\n",
    "    export PATH=\"/g/data/en0/jss548/miniconda3:$PATH\"\n",
    "    source activate radar-dev\n",
    "    python {python_script} -j {cpu} -r {rid} -d1 {d1} -d2 {d2}\n",
    "    \"\"\".format(time=walltime, cpu=ncpu, mem=mem, rid=radar_id, d1=radar_start, d2=radar_end, python_script=py_script, qmode=queue_mode)\n",
    "    return conf_txt\n",
    "\n",
    "#main function\n",
    "\n",
    "\n",
    "#paths\n",
    "qsub_path    = \"/home/548/jss548/dev/tmp/qsub_dp_rain\"\n",
    "\n",
    "py_script    = '/home/548/jss548/dev/projects/PST/DPrain/retrieval/op-production.py'\n",
    "run_qsub_cmd = \"qsub -k oe\"\n",
    "ncpu         = 4\n",
    "mem          = 64\n",
    "walltime     = 24\n",
    "\n",
    "rid_list     = [2]#[31,32,95]#,71,66]\n",
    "run_flag     = True\n",
    "qmode        = 'normal'\n",
    "start_date   = '20211022'\n",
    "end_date     = '20211022'\n",
    "\n",
    "#S band DP test period is for Nov 2018 to March 2019\n",
    "#C band DP test period is for April 2020 to May 2020\n",
    "\n",
    "count = 0\n",
    "for rid in rid_list:\n",
    "    \n",
    "        #convert to string\n",
    "        rid = str(rid).zfill(2)\n",
    "\n",
    "        #generate qsub for wuater sets\n",
    "        f     = gen_qsub(rid, start_date, end_date, ncpu, mem, walltime, py_script, qmode)\n",
    "        fname = '/'.join([qsub_path, \"dp_%s_%s_%s.pbs\" % (rid, start_date, end_date)])\n",
    "        with open(fname, 'w') as fid:\n",
    "            fid.write(f)\n",
    "        count += 1\n",
    "        if run_flag == True:\n",
    "            cmd           = ' '.join([run_qsub_cmd,fname])\n",
    "            process       = subprocess.Popen(cmd.split(), stdout=subprocess.PIPE)\n",
    "            output, error = process.communicate()\n",
    "            print('running ' + fname)\n",
    "            print(output)\n",
    "\n",
    "print('finished qsub generate for ',str(count), 'jobs')"
   ]
  },
  {
   "cell_type": "code",
   "execution_count": null,
   "metadata": {},
   "outputs": [],
   "source": []
  }
 ],
 "metadata": {
  "kernelspec": {
   "display_name": "Python 3",
   "language": "python",
   "name": "python3"
  },
  "language_info": {
   "codemirror_mode": {
    "name": "ipython",
    "version": 3
   },
   "file_extension": ".py",
   "mimetype": "text/x-python",
   "name": "python",
   "nbconvert_exporter": "python",
   "pygments_lexer": "ipython3",
   "version": "3.9.4"
  }
 },
 "nbformat": 4,
 "nbformat_minor": 4
}
