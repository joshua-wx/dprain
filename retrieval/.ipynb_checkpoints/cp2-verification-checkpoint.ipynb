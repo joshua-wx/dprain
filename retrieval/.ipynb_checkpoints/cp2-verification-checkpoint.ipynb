{
 "cells": [
  {
   "cell_type": "code",
   "execution_count": 5,
   "metadata": {},
   "outputs": [
    {
     "data": {
      "text/plain": [
       "'\\n\\n'"
      ]
     },
     "execution_count": 5,
     "metadata": {},
     "output_type": "execute_result"
    }
   ],
   "source": [
    "#for each radar volumes\n",
    "#extract 5 min gauge accumulations\n",
    "#extract rainrate at each gauge location\n",
    "#plot!\n",
    "\n",
    "\"\"\"\n",
    "\n",
    "\"\"\""
   ]
  },
  {
   "cell_type": "code",
   "execution_count": 22,
   "metadata": {},
   "outputs": [],
   "source": [
    "import os\n",
    "from glob import glob\n",
    "from datetime import datetime, timedelta\n",
    "\n",
    "from matplotlib import pyplot as plt\n",
    "import numpy as np\n",
    "import cftime\n",
    "\n",
    "import pyart\n",
    "\n",
    "import verify_util as util"
   ]
  },
  {
   "cell_type": "code",
   "execution_count": 93,
   "metadata": {},
   "outputs": [],
   "source": [
    "def radar_rainrate_ts(vol_ffn, aws_list, aws_data):\n",
    "    \n",
    "    accu_min = 6 #minutes\n",
    "    tilt = 0 #index\n",
    "    \n",
    "    #read radar \n",
    "    radar = pyart.io.read(vol_ffn)\n",
    "    \n",
    "    #extract field\n",
    "    zr_data = radar.get_field(tilt, 'zr_rainrate').filled()\n",
    "    ar_data = radar.get_field(tilt, 'ah_rainrate').filled()\n",
    "    kdpr_data = radar.get_field(tilt, 'kdp_rainrate').filled()\n",
    "    hybrid_data = radar.get_field(tilt, 'hybrid_rainrate').filled()\n",
    "    \n",
    "    #extract lat lon grid for volume\n",
    "    gate_lat = radar.gate_latitude['data']\n",
    "    gate_lon = radar.gate_longitude['data']\n",
    "    #extract tilt index\n",
    "    tilt_start_idx = radar.sweep_start_ray_index['data']\n",
    "    tilt_end_idx   = radar.sweep_end_ray_index['data']\n",
    "    #extract lat lon grid for tilt\n",
    "    tilt_lat       = gate_lat[tilt_start_idx[tilt]:tilt_end_idx[tilt]+1, :]\n",
    "    tilt_lon       = gate_lon[tilt_start_idx[tilt]:tilt_end_idx[tilt]+1, :]\n",
    "    #sweep time\n",
    "    sweep_time_array = radar.time['data'][tilt_start_idx[tilt]:tilt_end_idx[tilt]+1]    \n",
    "    sweep_dtime_array = cftime.num2pydate(sweep_time_array[:], radar.time['units'])\n",
    "    sweep_dtime = sweep_dtime_array[int(len(sweep_dtime_array)/2)] #get mid-ray time.\n",
    "    #remove seconds\n",
    "    sweep_dtime = sweep_dtime - timedelta(seconds = sweep_dtime.second)\n",
    "    \n",
    "    #get gatefilter from specific attenuation\n",
    "    radar_mask = np.ma.getmask(radar.fields['specific_attenuation']['data'][tilt_start_idx[tilt]:tilt_end_idx[tilt]+1, :])\n",
    "    \n",
    "    #apply mask\n",
    "    zr_data[radar_mask] = 0.\n",
    "    ar_data[radar_mask] = 0.\n",
    "    kdpr_data[radar_mask] = 0.\n",
    "    hybrid_data[radar_mask] = 0.\n",
    "    \n",
    "    output_data = []\n",
    "    \n",
    "    for i,aws_site in enumerate(aws_list):\n",
    "        \n",
    "        #get gauge data\n",
    "        gauge_obs = aws_data[i]['rain']\n",
    "        gauge_dt = aws_data[i]['dt']\n",
    "        \n",
    "        #cost function for nearest radar grid point\n",
    "        cost = np.sqrt((tilt_lon - aws_site[3])**2 \\\n",
    "                + (tilt_lat - aws_site[2])**2) #A cost function for searching\n",
    "        index = np.where(cost == cost.min())\n",
    "        \n",
    "        #extract values from each field\n",
    "        zr_value = zr_data[index][0]\n",
    "        ar_value = ar_data[index][0]\n",
    "        kdpr_value = kdpr_data[index][0]\n",
    "        hybrid_value = hybrid_data[index][0]\n",
    "        \n",
    "        #accumulate rain\n",
    "        acc_end_dt = sweep_dtime + timedelta(minutes=accu_min)\n",
    "        acc_sum = 0\n",
    "        for j, dt in enumerate(gauge_dt):\n",
    "            #accumulate rain\n",
    "            if dt >= sweep_dtime and dt < acc_end_dt:\n",
    "                acc_sum += gauge_obs[j]\n",
    "        \n",
    "        #calc rainrate in mm/hr\n",
    "        gauge_rate = acc_sum*(60/(accu_min))\n",
    "    \n",
    "        #append outputs\n",
    "        output_data.append([gauge_rate, zr_value, ar_value, kdpr_value, hybrid_value])\n",
    "    \n",
    "    return output_data, sweep_dtime\n",
    "    \n",
    "    "
   ]
  },
  {
   "cell_type": "code",
   "execution_count": 94,
   "metadata": {},
   "outputs": [],
   "source": [
    "aws_path = '/g/data/kl02/jss548/PST/polarimetric_rain/casestudy_20141127/aws'\n",
    "cp2_path = '/g/data/kl02/jss548/PST/polarimetric_rain/casestudy_20141127/cp2'\n",
    "\n",
    "aws_list = [['040913','BRISBANE',-27.4808, 153.0389],\n",
    "            ['040842','BRISBANE AERO',-27.3917, 153.1292],\n",
    "            ['040211','ARCHERFIELD AIRPORT',-27.5716, 153.0071],\n",
    "            ['040958','REDCLIFFE',-27.2169, 153.0922],\n",
    "            ['040004','AMBERLEY AMO',-27.6297, 152.7111],\n",
    "            ['040983','BEAUDESERT DRUMLEY STREET',-27.9707, 152.9898]]"
   ]
  },
  {
   "cell_type": "code",
   "execution_count": 95,
   "metadata": {},
   "outputs": [],
   "source": [
    "#load AWS data\n",
    "aws_data = []\n",
    "for aws_site in aws_list:\n",
    "    aws_ffn_list = glob(aws_path + '/*' + aws_site[0] + '*.txt')\n",
    "    aws_dict = util.read_rain_1min(aws_ffn_list)\n",
    "    aws_data.append(aws_dict)"
   ]
  },
  {
   "cell_type": "code",
   "execution_count": 96,
   "metadata": {},
   "outputs": [
    {
     "name": "stdout",
     "output_type": "stream",
     "text": [
      "/g/data/kl02/jss548/PST/polarimetric_rain/casestudy_20141127/cp2/cp2-s_20141127_080604.sur.cfradial.nc\n",
      "[[2.0, 0.0, 0.0, 0.0, 0.0], [0.0, 0.0, 0.0, 0.0, 0.0], [0.0, 0.0, 0.0, 0.0, 0.0], [2.0, 1.3493519, 0.13525900266446875, 0.93923247, 0.13525900266446875], [0.0, 0.0, 0.0, 0.0, 0.0], [2.0, 0.0, 0.0, 0.0, 0.0]]\n"
     ]
    }
   ],
   "source": [
    "vol_ffn_list = sorted(glob(cp2_path + '/*.nc'))\n",
    "\n",
    "output_list = []\n",
    "for vol_ffn in vol_ffn_list:\n",
    "    sample, dt = radar_rainrate_ts(vol_ffn, aws_list, aws_data)\n",
    "    \n",
    "    "
   ]
  },
  {
   "cell_type": "code",
   "execution_count": null,
   "metadata": {},
   "outputs": [],
   "source": []
  },
  {
   "cell_type": "code",
   "execution_count": null,
   "metadata": {},
   "outputs": [],
   "source": []
  }
 ],
 "metadata": {
  "kernelspec": {
   "display_name": "Python [conda env:radar-dev] *",
   "language": "python",
   "name": "conda-env-radar-dev-py"
  },
  "language_info": {
   "codemirror_mode": {
    "name": "ipython",
    "version": 3
   },
   "file_extension": ".py",
   "mimetype": "text/x-python",
   "name": "python",
   "nbconvert_exporter": "python",
   "pygments_lexer": "ipython3",
   "version": "3.8.2"
  }
 },
 "nbformat": 4,
 "nbformat_minor": 4
}
