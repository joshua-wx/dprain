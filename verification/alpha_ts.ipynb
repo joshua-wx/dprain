{
 "cells": [
  {
   "cell_type": "code",
   "execution_count": 1,
   "metadata": {},
   "outputs": [
    {
     "name": "stdout",
     "output_type": "stream",
     "text": [
      "\n",
      "## You are using the Python ARM Radar Toolkit (Py-ART), an open source\n",
      "## library for working with weather radar data. Py-ART is partly\n",
      "## supported by the U.S. Department of Energy as part of the Atmospheric\n",
      "## Radiation Measurement (ARM) Climate Research Facility, an Office of\n",
      "## Science user facility.\n",
      "##\n",
      "## If you use this software to prepare a publication, please cite:\n",
      "##\n",
      "##     JJ Helmus and SM Collis, JORS 2016, doi: 10.5334/jors.119\n",
      "\n"
     ]
    }
   ],
   "source": [
    "from glob import glob\n",
    "from datetime import datetime\n",
    "import numpy as np\n",
    "from matplotlib import pyplot as plt\n",
    "import matplotlib.dates as mdates\n",
    "from tqdm import tqdm\n",
    "import cftime\n",
    "\n",
    "import pyart\n",
    "from netCDF4 import Dataset"
   ]
  },
  {
   "cell_type": "code",
   "execution_count": 9,
   "metadata": {},
   "outputs": [
    {
     "name": "stderr",
     "output_type": "stream",
     "text": [
      "/g/data/en0/jss548/miniconda3/envs/radar-dev/lib/python3.9/site-packages/ipykernel/ipkernel.py:283: DeprecationWarning: `should_run_async` will not call `transform_cell` automatically in the future. Please pass the result to `transformed_cell` argument and any exception that happen during thetransform in `preprocessing_exc_tuple` in IPython 7.17 and above.\n",
      "  and should_run_async(code)\n"
     ]
    }
   ],
   "source": [
    "radar_id = '2'\n",
    "date_str = '20211022'\n",
    "dp_path = f'/scratch/kl02/jss548/dprain/cfradial/{radar_id}/{date_str}'\n",
    "dp_ffn_list = sorted(glob(dp_path + '/*.nc'))\n",
    "time_fmt = mdates.DateFormatter('%H:%M')"
   ]
  },
  {
   "cell_type": "code",
   "execution_count": 12,
   "metadata": {},
   "outputs": [
    {
     "name": "stderr",
     "output_type": "stream",
     "text": [
      "/g/data/en0/jss548/miniconda3/envs/radar-dev/lib/python3.9/site-packages/ipykernel/ipkernel.py:283: DeprecationWarning: `should_run_async` will not call `transform_cell` automatically in the future. Please pass the result to `transformed_cell` argument and any exception that happen during thetransform in `preprocessing_exc_tuple` in IPython 7.17 and above.\n",
      "  and should_run_async(code)\n",
      "  0%|          | 0/288 [00:00<?, ?it/s]"
     ]
    },
    {
     "name": "stdout",
     "output_type": "stream",
     "text": [
      "<class 'netCDF4._netCDF4.Dataset'>\n",
      "root group (NETCDF4 data model, file format HDF5):\n",
      "    Conventions: CF/Radial instrument_parameters\n",
      "    version: H5rad 2.2\n",
      "    title: \n",
      "    institution: \n",
      "    references: \n",
      "    source: RAD:AU02,PLC:Melb,CTY:500,STN:87031\n",
      "    comment: \n",
      "    instrument_name: \n",
      "    original_container: odim_h5\n",
      "    odim_conventions: ODIM_H5/V2_2\n",
      "    field_names: RHOHV_CORR, ZDR_CORR, radar_echo_classification, hybrid_rainrate, ah_rainrate, kdp_rainrate\n",
      "    history: \n",
      "    dimensions(sizes): time(5040), range(1283), sweep(14), string_length(32)\n",
      "    variables(dimensions): float32 time(time), float32 range(range), float32 azimuth(time), float64 elevation(time), float32 RHOHV_CORR(time, range), float32 ZDR_CORR(time, range), int16 radar_echo_classification(time, range), float32 hybrid_rainrate(time, range), float32 ah_rainrate(time, range), float32 kdp_rainrate(time, range), int32 sweep_number(sweep), float32 fixed_angle(sweep), int32 sweep_start_ray_index(sweep), int32 sweep_end_ray_index(sweep), |S1 sweep_mode(sweep, string_length), float64 latitude(), float64 longitude(), float64 altitude(), |S1 time_coverage_start(string_length), |S1 time_coverage_end(string_length), int32 volume_number()\n",
      "    groups: \n"
     ]
    },
    {
     "name": "stderr",
     "output_type": "stream",
     "text": [
      "\n"
     ]
    },
    {
     "ename": "IndexError",
     "evalue": "specific_attenuation not found in /",
     "output_type": "error",
     "traceback": [
      "\u001b[0;31m---------------------------------------------------------------------------\u001b[0m",
      "\u001b[0;31mIndexError\u001b[0m                                Traceback (most recent call last)",
      "\u001b[0;32m<ipython-input-12-0f3656fd19b0>\u001b[0m in \u001b[0;36m<module>\u001b[0;34m\u001b[0m\n\u001b[1;32m      9\u001b[0m         \u001b[0mprint\u001b[0m\u001b[0;34m(\u001b[0m\u001b[0mradar\u001b[0m\u001b[0;34m)\u001b[0m\u001b[0;34m\u001b[0m\u001b[0;34m\u001b[0m\u001b[0m\n\u001b[1;32m     10\u001b[0m         \u001b[0mtd_ts\u001b[0m\u001b[0;34m.\u001b[0m\u001b[0mappend\u001b[0m\u001b[0;34m(\u001b[0m\u001b[0mcftime\u001b[0m\u001b[0;34m.\u001b[0m\u001b[0mnum2pydate\u001b[0m\u001b[0;34m(\u001b[0m\u001b[0mradar\u001b[0m\u001b[0;34m[\u001b[0m\u001b[0;34m'time'\u001b[0m\u001b[0;34m]\u001b[0m\u001b[0;34m[\u001b[0m\u001b[0;36m0\u001b[0m\u001b[0;34m]\u001b[0m\u001b[0;34m,\u001b[0m \u001b[0mradar\u001b[0m\u001b[0;34m[\u001b[0m\u001b[0;34m'time'\u001b[0m\u001b[0;34m]\u001b[0m\u001b[0;34m.\u001b[0m\u001b[0munits\u001b[0m\u001b[0;34m)\u001b[0m\u001b[0;34m)\u001b[0m\u001b[0;34m\u001b[0m\u001b[0;34m\u001b[0m\u001b[0m\n\u001b[0;32m---> 11\u001b[0;31m         \u001b[0malpha_ts\u001b[0m\u001b[0;34m.\u001b[0m\u001b[0mappend\u001b[0m\u001b[0;34m(\u001b[0m\u001b[0mradar\u001b[0m\u001b[0;34m[\u001b[0m\u001b[0;34m'specific_attenuation'\u001b[0m\u001b[0;34m]\u001b[0m\u001b[0;34m.\u001b[0m\u001b[0malpha\u001b[0m\u001b[0;34m)\u001b[0m\u001b[0;34m\u001b[0m\u001b[0;34m\u001b[0m\u001b[0m\n\u001b[0m\u001b[1;32m     12\u001b[0m         \u001b[0malpha_method_ts\u001b[0m\u001b[0;34m.\u001b[0m\u001b[0mappend\u001b[0m\u001b[0;34m(\u001b[0m\u001b[0mradar\u001b[0m\u001b[0;34m[\u001b[0m\u001b[0;34m'specific_attenuation'\u001b[0m\u001b[0;34m]\u001b[0m\u001b[0;34m.\u001b[0m\u001b[0malpha_method\u001b[0m\u001b[0;34m)\u001b[0m\u001b[0;34m\u001b[0m\u001b[0;34m\u001b[0m\u001b[0m\n\u001b[1;32m     13\u001b[0m         \u001b[0msystem_phase_ts\u001b[0m\u001b[0;34m.\u001b[0m\u001b[0mappend\u001b[0m\u001b[0;34m(\u001b[0m\u001b[0mradar\u001b[0m\u001b[0;34m[\u001b[0m\u001b[0;34m'PHIDP_B'\u001b[0m\u001b[0;34m]\u001b[0m\u001b[0;34m.\u001b[0m\u001b[0msystem_phase\u001b[0m\u001b[0;34m)\u001b[0m\u001b[0;34m\u001b[0m\u001b[0;34m\u001b[0m\u001b[0m\n",
      "\u001b[0;32msrc/netCDF4/_netCDF4.pyx\u001b[0m in \u001b[0;36mnetCDF4._netCDF4.Dataset.__getitem__\u001b[0;34m()\u001b[0m\n",
      "\u001b[0;31mIndexError\u001b[0m: specific_attenuation not found in /"
     ]
    }
   ],
   "source": [
    "td_ts = []\n",
    "alpha_ts = []\n",
    "alpha_method_ts = []\n",
    "system_phase_ts = []\n",
    "mean_dp_rr = []\n",
    "mean_sp_rr = []\n",
    "\n",
    "for dp_ffn in tqdm(dp_ffn_list, total=len(dp_ffn_list)):\n",
    "    with Dataset(dp_ffn) as radar:\n",
    "        print(radar)\n",
    "        td_ts.append(cftime.num2pydate(radar['time'][0], radar['time'].units))\n",
    "        alpha_ts.append(radar['specific_attenuation'].alpha)\n",
    "        alpha_method_ts.append(radar['specific_attenuation'].alpha_method)\n",
    "        system_phase_ts.append(radar['PHIDP_B'].system_phase)\n",
    "        mean_dp_rr.append(np.nanmean(radar['ah_rainrate'][:]))\n",
    "        mean_sp_rr.append(np.nanmean(radar['zr_rainrate'][:]))"
   ]
  },
  {
   "cell_type": "code",
   "execution_count": 4,
   "metadata": {},
   "outputs": [
    {
     "name": "stderr",
     "output_type": "stream",
     "text": [
      "/g/data/en0/jss548/miniconda3/envs/radar-dev/lib/python3.9/site-packages/ipykernel/ipkernel.py:283: DeprecationWarning: `should_run_async` will not call `transform_cell` automatically in the future. Please pass the result to `transformed_cell` argument and any exception that happen during thetransform in `preprocessing_exc_tuple` in IPython 7.17 and above.\n",
      "  and should_run_async(code)\n"
     ]
    },
    {
     "data": {
      "image/png": "[encoded data removed]",
      "text/plain": [
       "<Figure size 720x576 with 4 Axes>"
      ]
     },
     "metadata": {
      "needs_background": "light"
     },
     "output_type": "display_data"
    }
   ],
   "source": [
    "plt.figure(figsize=[10,8])\n",
    "\n",
    "ax1 = plt.subplot(211)\n",
    "ax1.set_title(f'Analysis for radar:{radar_id}, date:{date_str}')\n",
    "ax1.plot(td_ts, alpha_ts, 'b-')\n",
    "ax1.set_xlabel('Time(UTC)')\n",
    "ax1.set_ylabel(r\"$ \\alpha (dB deg^{-1})$\", color='b')\n",
    "ax1.xaxis.set_major_formatter(time_fmt)\n",
    "ax1.grid()\n",
    "ax1a = ax1.twinx()\n",
    "ax1a.plot(td_ts, alpha_method_ts, 'r-')\n",
    "ax1a.set_ylim(0.9,5.1)\n",
    "ax1a.set_ylabel(\"Alpha Technique (Zhang et al. 2020)\", color='r')\n",
    "ax1a.xaxis.set_major_formatter(time_fmt)\n",
    "\n",
    "ax2 = plt.subplot(212)\n",
    "ax2.plot(td_ts, system_phase_ts, 'b-')\n",
    "ax2.set_xlabel('Time(UTC)')\n",
    "ax2.set_ylabel(\"System Phase (deg)\", color='b')\n",
    "ax2.xaxis.set_major_formatter(time_fmt)\n",
    "ax2.grid()\n",
    "ax2a = ax2.twinx()\n",
    "ax2a.plot(td_ts, mean_dp_rr, 'r-')\n",
    "ax2a.set_ylim(0,60)\n",
    "ax2a.set_ylabel(\"Mean R(Ah)\", color='r')\n",
    "ax2a.xaxis.set_major_formatter(time_fmt)"
   ]
  },
  {
   "cell_type": "code",
   "execution_count": null,
   "metadata": {},
   "outputs": [],
   "source": []
  }
 ],
 "metadata": {
  "kernelspec": {
   "display_name": "Python [conda env:radar-dev] *",
   "language": "python",
   "name": "conda-env-radar-dev-py"
  },
  "language_info": {
   "codemirror_mode": {
    "name": "ipython",
    "version": 3
   },
   "file_extension": ".py",
   "mimetype": "text/x-python",
   "name": "python",
   "nbconvert_exporter": "python",
   "pygments_lexer": "ipython3",
   "version": "3.9.4"
  }
 },
 "nbformat": 4,
 "nbformat_minor": 4
}
