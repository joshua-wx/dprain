{
 "cells": [
  {
   "cell_type": "code",
   "execution_count": 9,
   "metadata": {},
   "outputs": [],
   "source": [
    "from glob import glob\n",
    "import numpy as np\n",
    "\n",
    "data_root = '/g/data/kl02/jss548/PST/dprain-verify'\n",
    "rrate_multiplier = 4 #convert mm in 15min to mm/hr\n"
   ]
  },
  {
   "cell_type": "code",
   "execution_count": 10,
   "metadata": {},
   "outputs": [],
   "source": [
    "#check number of samples with rainrate > 50mm/hr\n",
    "#need to keep kdp and reflectivity values ideally...\n",
    "\n",
    "radar_id = []\n",
    "gauge_rrate = []\n",
    "rf3_rrate = []\n",
    "dp_rrate = []\n",
    "gauge_lat = []\n",
    "gauge_lon = []\n",
    "gauge_dt64 = np.array([], dtype='datetime64')\n",
    "\n",
    "#list files\n",
    "data_ffn_list = sorted(glob(data_root + '/**/*.npz', recursive=True))\n",
    "\n",
    "for data_ffn in data_ffn_list:\n",
    "    data = np.load(data_ffn)\n",
    "    gauge_rrate = np.append(gauge_rrate, data['gauge_rain'])\n",
    "    rf3_rrate= np.append(rf3_rrate, data['rf3_acrain'])\n",
    "    dp_rrate = np.append(dp_rrate, data['dp_acrain'])\n",
    "    gauge_dt64 = np.append(gauge_dt64, data['gauge_dt64'])\n",
    "    gauge_lat = np.append(gauge_lat, data['gauge_lat'])\n",
    "    gauge_lon = np.append(gauge_lon, data['gauge_lon'])\n",
    "\n",
    "#convert from mm in 15min to mm/hr\n",
    "gauge_rrate = gauge_rrate*rrate_multiplier\n",
    "rf3_rrate = rf3_rrate*rrate_multiplier\n",
    "dp_rrate = dp_rrate*rrate_multiplier*0.75"
   ]
  },
  {
   "cell_type": "code",
   "execution_count": 13,
   "metadata": {},
   "outputs": [
    {
     "name": "stdout",
     "output_type": "stream",
     "text": [
      "number of 50mm/hr samples:  1249\n"
     ]
    }
   ],
   "source": [
    "print('number of 50mm/hr samples: ', np.sum(gauge_rrate>50))"
   ]
  },
  {
   "cell_type": "code",
   "execution_count": null,
   "metadata": {},
   "outputs": [],
   "source": []
  }
 ],
 "metadata": {
  "kernelspec": {
   "display_name": "Python [conda env:radar-dev] *",
   "language": "python",
   "name": "conda-env-radar-dev-py"
  },
  "language_info": {
   "codemirror_mode": {
    "name": "ipython",
    "version": 3
   },
   "file_extension": ".py",
   "mimetype": "text/x-python",
   "name": "python",
   "nbconvert_exporter": "python",
   "pygments_lexer": "ipython3",
   "version": "3.8.5"
  }
 },
 "nbformat": 4,
 "nbformat_minor": 4
}
