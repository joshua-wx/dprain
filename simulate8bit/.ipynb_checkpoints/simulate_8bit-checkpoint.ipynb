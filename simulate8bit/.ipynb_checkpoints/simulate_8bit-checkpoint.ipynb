{
 "cells": [
  {
   "cell_type": "code",
   "execution_count": 2,
   "metadata": {},
   "outputs": [],
   "source": [
    "import copy\n",
    "\n",
    "import numpy as np\n",
    "import scipy\n",
    "import pyart\n",
    "\n",
    "import phase"
   ]
  },
  {
   "cell_type": "code",
   "execution_count": 3,
   "metadata": {},
   "outputs": [],
   "source": [
    "test_ffn = '/g/data/hj10/admin/cp2/level_1b_sband_sur/v2020/ppi/2014/20141127/cp2-s_20141127_063502.sur.cfradial.nc'"
   ]
  },
  {
   "cell_type": "code",
   "execution_count": 4,
   "metadata": {},
   "outputs": [],
   "source": [
    "radar = pyart.io.read(test_ffn)"
   ]
  },
  {
   "cell_type": "code",
   "execution_count": 5,
   "metadata": {},
   "outputs": [
    {
     "name": "stderr",
     "output_type": "stream",
     "text": [
      "/home/548/jss548/dev/projects/PST/polarimetric_rain/phase.py:63: RuntimeWarning: invalid value encountered in sqrt\n",
      "  return np.sqrt(num / xa_valid_count)\n",
      "/g/data/en0/jss548/miniconda3/envs/radar-dev/lib/python3.8/site-packages/pyart/filters/gatefilter.py:617: RuntimeWarning: invalid value encountered in greater\n",
      "  marked = self._get_fdata(field) > value\n"
     ]
    },
    {
     "ename": "KeyError",
     "evalue": "'normalized_coherent_power'",
     "output_type": "error",
     "traceback": [
      "\u001b[0;31m---------------------------------------------------------------------------\u001b[0m",
      "\u001b[0;31mKeyError\u001b[0m                                  Traceback (most recent call last)",
      "\u001b[0;32m<ipython-input-5-093bb3273fee>\u001b[0m in \u001b[0;36m<module>\u001b[0;34m\u001b[0m\n\u001b[1;32m      8\u001b[0m \u001b[0;34m\u001b[0m\u001b[0m\n\u001b[1;32m      9\u001b[0m \u001b[0;31m#generate 8bit phidp and 16bit phidp\u001b[0m\u001b[0;34m\u001b[0m\u001b[0;34m\u001b[0m\u001b[0;34m\u001b[0m\u001b[0m\n\u001b[0;32m---> 10\u001b[0;31m phidp_8bit, kdp_8bit = phase.phidp_giangrande_8bit(radar, gatefilter, refl_field='reflectivity', ncp_field='normalized_coherent_power',\n\u001b[0m\u001b[1;32m     11\u001b[0m                      rhv_field='corrected_cross_correlation_ratio', phidp_field='differential_phase')\n\u001b[1;32m     12\u001b[0m \u001b[0;34m\u001b[0m\u001b[0m\n",
      "\u001b[0;32m~/dev/projects/PST/polarimetric_rain/phase.py\u001b[0m in \u001b[0;36mphidp_giangrande_8bit\u001b[0;34m(radar, gatefilter, refl_field, ncp_field, rhv_field, phidp_field)\u001b[0m\n\u001b[1;32m    184\u001b[0m \u001b[0;34m\u001b[0m\u001b[0m\n\u001b[1;32m    185\u001b[0m     \u001b[0;31m#calc phase\u001b[0m\u001b[0;34m\u001b[0m\u001b[0;34m\u001b[0m\u001b[0;34m\u001b[0m\u001b[0m\n\u001b[0;32m--> 186\u001b[0;31m     phidp_gg, kdp_gg = pyart.correct.phase_proc_lp(radar, 0.0,\n\u001b[0m\u001b[1;32m    187\u001b[0m                                                    \u001b[0mLP_solver\u001b[0m\u001b[0;34m=\u001b[0m\u001b[0;34m'cylp'\u001b[0m\u001b[0;34m,\u001b[0m\u001b[0;34m\u001b[0m\u001b[0;34m\u001b[0m\u001b[0m\n\u001b[1;32m    188\u001b[0m                                                    \u001b[0mncp_field\u001b[0m\u001b[0;34m=\u001b[0m\u001b[0mncp_field\u001b[0m\u001b[0;34m,\u001b[0m\u001b[0;34m\u001b[0m\u001b[0;34m\u001b[0m\u001b[0m\n",
      "\u001b[0;32m/g/data/en0/jss548/miniconda3/envs/radar-dev/lib/python3.8/site-packages/pyart/correct/phase_proc.py\u001b[0m in \u001b[0;36mphase_proc_lp\u001b[0;34m(radar, offset, debug, self_const, low_z, high_z, min_phidp, min_ncp, min_rhv, fzl, sys_phase, overide_sys_phase, nowrap, really_verbose, LP_solver, refl_field, ncp_field, rhv_field, phidp_field, kdp_field, unf_field, window_len, proc, coef)\u001b[0m\n\u001b[1;32m   1083\u001b[0m     \u001b[0;32mif\u001b[0m \u001b[0mdebug\u001b[0m\u001b[0;34m:\u001b[0m\u001b[0;34m\u001b[0m\u001b[0;34m\u001b[0m\u001b[0m\n\u001b[1;32m   1084\u001b[0m         \u001b[0mprint\u001b[0m\u001b[0;34m(\u001b[0m\u001b[0;34m'Unfolding'\u001b[0m\u001b[0;34m)\u001b[0m\u001b[0;34m\u001b[0m\u001b[0;34m\u001b[0m\u001b[0m\n\u001b[0;32m-> 1085\u001b[0;31m     my_unf = get_phidp_unf(radar, ncp_lev=min_ncp, rhohv_lev=min_rhv,\n\u001b[0m\u001b[1;32m   1086\u001b[0m                            \u001b[0mdebug\u001b[0m\u001b[0;34m=\u001b[0m\u001b[0mdebug\u001b[0m\u001b[0;34m,\u001b[0m \u001b[0mncpts\u001b[0m\u001b[0;34m=\u001b[0m\u001b[0;36m2\u001b[0m\u001b[0;34m,\u001b[0m \u001b[0mdoc\u001b[0m\u001b[0;34m=\u001b[0m\u001b[0;32mNone\u001b[0m\u001b[0;34m,\u001b[0m\u001b[0;34m\u001b[0m\u001b[0;34m\u001b[0m\u001b[0m\n\u001b[1;32m   1087\u001b[0m                            \u001b[0msys_phase\u001b[0m\u001b[0;34m=\u001b[0m\u001b[0msys_phase\u001b[0m\u001b[0;34m,\u001b[0m \u001b[0mnowrap\u001b[0m\u001b[0;34m=\u001b[0m\u001b[0mnowrap\u001b[0m\u001b[0;34m,\u001b[0m\u001b[0;34m\u001b[0m\u001b[0;34m\u001b[0m\u001b[0m\n",
      "\u001b[0;32m/g/data/en0/jss548/miniconda3/envs/radar-dev/lib/python3.8/site-packages/pyart/correct/phase_proc.py\u001b[0m in \u001b[0;36mget_phidp_unf\u001b[0;34m(radar, ncp_lev, rhohv_lev, debug, ncpts, doc, overide_sys_phase, sys_phase, nowrap, refl_field, ncp_field, rhv_field, phidp_field)\u001b[0m\n\u001b[1;32m    456\u001b[0m         \u001b[0mmy_phidp\u001b[0m \u001b[0;34m=\u001b[0m \u001b[0mradar\u001b[0m\u001b[0;34m.\u001b[0m\u001b[0mfields\u001b[0m\u001b[0;34m[\u001b[0m\u001b[0mphidp_field\u001b[0m\u001b[0;34m]\u001b[0m\u001b[0;34m[\u001b[0m\u001b[0;34m'data'\u001b[0m\u001b[0;34m]\u001b[0m\u001b[0;34m\u001b[0m\u001b[0;34m\u001b[0m\u001b[0m\n\u001b[1;32m    457\u001b[0m         \u001b[0mmy_rhv\u001b[0m \u001b[0;34m=\u001b[0m \u001b[0mradar\u001b[0m\u001b[0;34m.\u001b[0m\u001b[0mfields\u001b[0m\u001b[0;34m[\u001b[0m\u001b[0mrhv_field\u001b[0m\u001b[0;34m]\u001b[0m\u001b[0;34m[\u001b[0m\u001b[0;34m'data'\u001b[0m\u001b[0;34m]\u001b[0m\u001b[0;34m\u001b[0m\u001b[0;34m\u001b[0m\u001b[0m\n\u001b[0;32m--> 458\u001b[0;31m         \u001b[0mmy_ncp\u001b[0m \u001b[0;34m=\u001b[0m \u001b[0mradar\u001b[0m\u001b[0;34m.\u001b[0m\u001b[0mfields\u001b[0m\u001b[0;34m[\u001b[0m\u001b[0mncp_field\u001b[0m\u001b[0;34m]\u001b[0m\u001b[0;34m[\u001b[0m\u001b[0;34m'data'\u001b[0m\u001b[0;34m]\u001b[0m\u001b[0;34m\u001b[0m\u001b[0;34m\u001b[0m\u001b[0m\n\u001b[0m\u001b[1;32m    459\u001b[0m         \u001b[0mmy_z\u001b[0m \u001b[0;34m=\u001b[0m \u001b[0mradar\u001b[0m\u001b[0;34m.\u001b[0m\u001b[0mfields\u001b[0m\u001b[0;34m[\u001b[0m\u001b[0mrefl_field\u001b[0m\u001b[0;34m]\u001b[0m\u001b[0;34m[\u001b[0m\u001b[0;34m'data'\u001b[0m\u001b[0;34m]\u001b[0m\u001b[0;34m\u001b[0m\u001b[0;34m\u001b[0m\u001b[0m\n\u001b[1;32m    460\u001b[0m     \u001b[0mt\u001b[0m \u001b[0;34m=\u001b[0m \u001b[0mtime\u001b[0m\u001b[0;34m(\u001b[0m\u001b[0;34m)\u001b[0m\u001b[0;34m\u001b[0m\u001b[0;34m\u001b[0m\u001b[0m\n",
      "\u001b[0;31mKeyError\u001b[0m: 'normalized_coherent_power'"
     ]
    }
   ],
   "source": [
    "# GateFilter\n",
    "gatefilter = phase.do_gatefilter(radar,\n",
    "                                     refl_name='reflectivity',\n",
    "                                     phidp_name=\"differential_phase\",\n",
    "                                     rhohv_name='corrected_cross_correlation_ratio',\n",
    "                                     zdr_name=\"corrected_differential_reflectivity\",\n",
    "                                     snr_name='signal_to_noise_ratio')\n",
    "\n",
    "#generate 8bit phidp and 16bit phidp\n",
    "phidp_8bit, kdp_8bit = phase.phidp_giangrande_8bit(radar, gatefilter, refl_field='reflectivity', ncp_field='normalized_coherent_power',\n",
    "                     rhv_field='corrected_cross_correlation_ratio', phidp_field='differential_phase')\n",
    "    \n",
    "#insert back into radar object\n",
    "radar.add_field('corrected_differential_phase_8bit', phidp_8bit, replace_existing=True)\n",
    "radar.add_field('corrected_specific_differential_phase_8bit', kdp_8bit, replace_existing=True)"
   ]
  },
  {
   "cell_type": "code",
   "execution_count": null,
   "metadata": {},
   "outputs": [],
   "source": [
    "from matplotlib import pyplot as plt\n",
    "\n",
    "fig = plt.figure(figsize=(16, 16))\n",
    "\n",
    "\n",
    "ax = plt.subplot(221)\n",
    "display = pyart.graph.RadarDisplay(radar)\n",
    "display.plot_ppi('corrected_differential_phase_8bit',0, vmin=0, vmax=180, cmap='pyart_Wild25')\n",
    "\n",
    "ax = plt.subplot(222)\n",
    "display = pyart.graph.RadarDisplay(radar)\n",
    "display.plot_ppi('corrected_differential_phase',0, vmin=-90, vmax=90, cmap='pyart_Wild25')\n",
    "\n",
    "ax = plt.subplot(223)\n",
    "display = pyart.graph.RadarDisplay(radar)\n",
    "display.plot_ppi('corrected_specific_differential_phase_8bit',0, vmin=-1, vmax=5, cmap='pyart_HomeyerRainbow')\n",
    "\n",
    "ax = plt.subplot(224)\n",
    "display = pyart.graph.RadarDisplay(radar)\n",
    "display.plot_ppi('corrected_specific_differential_phase',0, vmin=-1, vmax=5, cmap='pyart_HomeyerRainbow')"
   ]
  },
  {
   "cell_type": "code",
   "execution_count": null,
   "metadata": {},
   "outputs": [],
   "source": []
  }
 ],
 "metadata": {
  "kernelspec": {
   "display_name": "Python [conda env:radar-dev] *",
   "language": "python",
   "name": "conda-env-radar-dev-py"
  },
  "language_info": {
   "codemirror_mode": {
    "name": "ipython",
    "version": 3
   },
   "file_extension": ".py",
   "mimetype": "text/x-python",
   "name": "python",
   "nbconvert_exporter": "python",
   "pygments_lexer": "ipython3",
   "version": "3.8.2"
  }
 },
 "nbformat": 4,
 "nbformat_minor": 4
}
